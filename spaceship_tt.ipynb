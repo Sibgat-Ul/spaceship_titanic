{
 "cells": [
  {
   "cell_type": "code",
   "execution_count": 4,
   "outputs": [],
   "source": [
    "import pandas as pd\n",
    "import numpy as np\n",
    "import seaborn as sns\n",
    "import matplotlib.pyplot as plt\n",
    "\n",
    "import math\n",
    "\n",
    "from sklearn.discriminant_analysis import QuadraticDiscriminantAnalysis\n",
    "from sklearn.gaussian_process.kernels import RBF\n",
    "from sklearn.inspection import DecisionBoundaryDisplay\n",
    "from sklearn.model_selection import train_test_split\n",
    "from sklearn.naive_bayes import GaussianNB\n",
    "from sklearn.pipeline import make_pipeline\n",
    "from sklearn.preprocessing import StandardScaler\n",
    "from sklearn.svm import SVC\n",
    "\n",
    "random_state = 0"
   ],
   "metadata": {
    "collapsed": false,
    "ExecuteTime": {
     "end_time": "2023-09-22T12:57:45.188608179Z",
     "start_time": "2023-09-22T12:57:45.051559075Z"
    }
   },
   "id": "b8d9ea5b593c2892"
  },
  {
   "cell_type": "code",
   "execution_count": 5,
   "outputs": [],
   "source": [
    "from xgboost import XGBClassifier, XGBRFClassifier\n",
    "from lightgbm import LGBMClassifier\n",
    "from catboost import CatBoostClassifier\n",
    "\n",
    "\n",
    "from sklearn.ensemble import AdaBoostClassifier, RandomForestClassifier\n",
    "from sklearn.neighbors import KNeighborsClassifier\n",
    "from sklearn.neural_network import MLPClassifier\n",
    "from sklearn.tree import DecisionTreeClassifier\n",
    "from sklearn.gaussian_process import GaussianProcessClassifier\n",
    "from sklearn.datasets import make_circles, make_classification, make_moons\n",
    "\n",
    "cat = CatBoostClassifier(verbose=False, random_state=random_state)\n",
    "lgbm = LGBMClassifier(random_state=random_state)\n",
    "xgb = XGBClassifier(random_state=random_state)\n",
    "xgbrf = XGBRFClassifier(random_state=random_state)\n",
    "\n",
    "models = []\n",
    "\n",
    "models.append(('CAT', cat))\n",
    "models.append(('LGBM', lgbm))\n",
    "models.append(('XGB', xgb))\n",
    "models.append(('XGBRF', xgbrf))\n"
   ],
   "metadata": {
    "collapsed": false,
    "ExecuteTime": {
     "end_time": "2023-09-22T12:57:45.418409800Z",
     "start_time": "2023-09-22T12:57:45.184498626Z"
    }
   },
   "id": "525c7bb6c940b547"
  },
  {
   "cell_type": "code",
   "execution_count": 6,
   "outputs": [],
   "source": [
    "og_data = train_data = pd.read_csv('../dset/spaceship-titanic/train.csv')\n",
    "test_data = pd.read_csv('../dset/spaceship-titanic/test.csv')\n",
    "test_id = test_data['PassengerId']\n",
    "# train_data = og_data.sample(frac=0.75)\n",
    "# eval_data = og_data.drop(train_data.index, axis=0)\n",
    "# print(train_data.shape)\n",
    "# print(eval_data.shape)\n",
    "# print(test_data.shape)"
   ],
   "metadata": {
    "collapsed": false,
    "ExecuteTime": {
     "end_time": "2023-09-22T12:57:45.476309571Z",
     "start_time": "2023-09-22T12:57:45.422887666Z"
    }
   },
   "id": "b3d994f9dd520a3a"
  },
  {
   "cell_type": "code",
   "execution_count": 7,
   "outputs": [
    {
     "name": "stdout",
     "output_type": "stream",
     "text": [
      "<class 'pandas.core.frame.DataFrame'>\n",
      "RangeIndex: 8693 entries, 0 to 8692\n",
      "Data columns (total 14 columns):\n",
      " #   Column        Non-Null Count  Dtype  \n",
      "---  ------        --------------  -----  \n",
      " 0   PassengerId   8693 non-null   object \n",
      " 1   HomePlanet    8492 non-null   object \n",
      " 2   CryoSleep     8476 non-null   object \n",
      " 3   Cabin         8494 non-null   object \n",
      " 4   Destination   8511 non-null   object \n",
      " 5   Age           8514 non-null   float64\n",
      " 6   VIP           8490 non-null   object \n",
      " 7   RoomService   8512 non-null   float64\n",
      " 8   FoodCourt     8510 non-null   float64\n",
      " 9   ShoppingMall  8485 non-null   float64\n",
      " 10  Spa           8510 non-null   float64\n",
      " 11  VRDeck        8505 non-null   float64\n",
      " 12  Name          8493 non-null   object \n",
      " 13  Transported   8693 non-null   bool   \n",
      "dtypes: bool(1), float64(6), object(7)\n",
      "memory usage: 891.5+ KB\n"
     ]
    }
   ],
   "source": [
    "#train_data.info()\n",
    "unique_values_csv = pd.Series(train_data['Transported'].unique())\n",
    "#unique_values_csv.to_csv('./passenger_Id.csv')\n",
    "train_data.info()"
   ],
   "metadata": {
    "collapsed": false,
    "ExecuteTime": {
     "end_time": "2023-09-22T12:57:45.492823057Z",
     "start_time": "2023-09-22T12:57:45.479101566Z"
    }
   },
   "id": "9bd4d321d73772d0"
  },
  {
   "cell_type": "code",
   "execution_count": 8,
   "outputs": [],
   "source": [
    "def transform_bools(dfs, tr_arr, tst_arr):\n",
    "    for i in tr_arr:\n",
    "        dfs[0][i] = dfs[0][i].replace({False: 0, True: 1})\n",
    "        \n",
    "    for i in tst_arr:\n",
    "        dfs[1][i] = dfs[1][i].replace({False: 0, True: 1})\n",
    "\n",
    "def get_num_cols(df):\n",
    "    num_col = [col for col in train_data if train_data[col].dtype in ['int64', 'float64']]\n",
    "    return num_col;\n",
    "\n",
    "def split_df(dfs, to_split, from_split, split_factor, to_drop):\n",
    "    for df in dfs:\n",
    "        df[to_split] = df[from_split].str.split(split_factor, expand=True)\n",
    "        df.drop([from_split, to_drop], inplace=True, axis=1)\n"
   ],
   "metadata": {
    "collapsed": false,
    "ExecuteTime": {
     "end_time": "2023-09-22T12:57:45.548780895Z",
     "start_time": "2023-09-22T12:57:45.499428453Z"
    }
   },
   "id": "66c0c576fbc54de9"
  },
  {
   "cell_type": "code",
   "execution_count": 9,
   "outputs": [],
   "source": [
    "transform_bools([train_data,test_data], ['Transported', 'VIP', 'CryoSleep'], ['VIP', 'CryoSleep'])"
   ],
   "metadata": {
    "collapsed": false,
    "ExecuteTime": {
     "end_time": "2023-09-22T12:57:45.549195895Z",
     "start_time": "2023-09-22T12:57:45.541005931Z"
    }
   },
   "id": "677db7b332930c9c"
  },
  {
   "cell_type": "code",
   "execution_count": 10,
   "outputs": [],
   "source": [
    "num_col = get_num_cols(train_data) \n",
    "obj_col = [col for col in train_data if col not in num_col]"
   ],
   "metadata": {
    "collapsed": false,
    "ExecuteTime": {
     "end_time": "2023-09-22T12:57:45.549440647Z",
     "start_time": "2023-09-22T12:57:45.541375023Z"
    }
   },
   "id": "bf5da1a8c8290524"
  },
  {
   "cell_type": "code",
   "execution_count": 11,
   "outputs": [],
   "source": [
    "def corr_mat(data, target):\n",
    "    corrmat_def = data.corr()\n",
    "    top_corr = corrmat_def.nlargest(15, target)[target]\n",
    "    return top_corr.sort_values(ascending=False)"
   ],
   "metadata": {
    "collapsed": false,
    "ExecuteTime": {
     "end_time": "2023-09-22T12:57:45.588318670Z",
     "start_time": "2023-09-22T12:57:45.541686711Z"
    }
   },
   "id": "4c5fbb0b8d34d65e"
  },
  {
   "cell_type": "code",
   "execution_count": 12,
   "outputs": [
    {
     "name": "stdout",
     "output_type": "stream",
     "text": [
      "Transported     1.000000\n",
      "CryoSleep       0.468645\n",
      "FoodCourt       0.046566\n",
      "ShoppingMall    0.010141\n",
      "VIP            -0.037650\n",
      "Age            -0.075026\n",
      "VRDeck         -0.207075\n",
      "Spa            -0.221131\n",
      "RoomService    -0.244611\n",
      "Name: Transported, dtype: float64\n"
     ]
    }
   ],
   "source": [
    "corrmat = corr_mat(train_data[num_col], 'Transported')\n",
    "print(corrmat)"
   ],
   "metadata": {
    "collapsed": false,
    "ExecuteTime": {
     "end_time": "2023-09-22T12:57:45.588890386Z",
     "start_time": "2023-09-22T12:57:45.581455854Z"
    }
   },
   "id": "dd7b02710070b382"
  },
  {
   "cell_type": "code",
   "execution_count": 13,
   "outputs": [
    {
     "name": "stdout",
     "output_type": "stream",
     "text": [
      "Index(['HomePlanet', 'CryoSleep', 'Destination', 'Age', 'VIP', 'RoomService',\n",
      "       'FoodCourt', 'ShoppingMall', 'Spa', 'VRDeck', 'Name', 'Transported',\n",
      "       'Deck', 'Side', 'Group_ID'],\n",
      "      dtype='object') Index(['HomePlanet', 'CryoSleep', 'Destination', 'Age', 'VIP', 'RoomService',\n",
      "       'FoodCourt', 'ShoppingMall', 'Spa', 'VRDeck', 'Name', 'Deck', 'Side',\n",
      "       'Group_ID'],\n",
      "      dtype='object')\n"
     ]
    }
   ],
   "source": [
    "split_df([train_data, test_data], ['Deck', 'Cabin_No', 'Side'], 'Cabin', '/', 'Cabin_No')\n",
    "split_df([train_data, test_data], ['P_ID', 'Group_ID'], 'PassengerId', '_', 'P_ID')\n",
    "\n",
    "print(train_data.columns, test_data.columns)"
   ],
   "metadata": {
    "collapsed": false,
    "ExecuteTime": {
     "end_time": "2023-09-22T12:57:45.646854560Z",
     "start_time": "2023-09-22T12:57:45.581766331Z"
    }
   },
   "id": "78601c1ea256576c"
  },
  {
   "cell_type": "code",
   "execution_count": 14,
   "outputs": [],
   "source": [
    "from sklearn.impute import SimpleImputer\n",
    "from sklearn.impute import KNNImputer\n",
    "\n",
    "# y = train_data['Transported']\n",
    "# train_data.drop('Transported', axis=1, inplace=True)\n",
    "# train_data_0 = train_data\n",
    "# train_data['Cabin_No'] = train_data['Cabin_No'].astype(float)\n",
    "# num_col = get_num_cols(train_data)\n",
    "# \n",
    "# knn = KNNImputer(n_neighbors=3)\n",
    "# imputed_train = train_data[num_col]\n",
    "# imputed_train = knn.fit_transform(imputed_train)\n",
    "# imputed_train = pd.DataFrame(imputed_train)\n",
    "# imputed_train.columns = train_data[num_col].columns\n",
    "# train_data[num_col] = imputed_train[num_col]\n",
    "\n",
    "train_data.to_csv('./splitted_df.csv')"
   ],
   "metadata": {
    "collapsed": false,
    "ExecuteTime": {
     "end_time": "2023-09-22T12:57:45.701558197Z",
     "start_time": "2023-09-22T12:57:45.614364974Z"
    }
   },
   "id": "623c800ff529b5e4"
  },
  {
   "cell_type": "code",
   "execution_count": 15,
   "outputs": [],
   "source": [
    "def drop_col(df, to_drop, axis = 1, inplace = True):\n",
    "    df.drop(to_drop, axis=axis, inplace=inplace)\n",
    "\n",
    "drop_col(train_data, 'Name')\n",
    "drop_col(test_data, 'Name')"
   ],
   "metadata": {
    "collapsed": false,
    "ExecuteTime": {
     "end_time": "2023-09-22T12:57:45.702081360Z",
     "start_time": "2023-09-22T12:57:45.696454300Z"
    }
   },
   "id": "b000aa93d38e01bd"
  },
  {
   "cell_type": "code",
   "execution_count": 16,
   "outputs": [
    {
     "name": "stdout",
     "output_type": "stream",
     "text": [
      "['HomePlanet', 'Destination', 'Deck', 'Side', 'Group_ID']\n"
     ]
    }
   ],
   "source": [
    "train_data['Group_ID'].astype(int)\n",
    "test_data['Group_ID'].astype(int)\n",
    "\n",
    "obj_col = [col for col in train_data.columns if train_data[col].dtype in ['object']]\n",
    "print(obj_col)"
   ],
   "metadata": {
    "collapsed": false,
    "ExecuteTime": {
     "end_time": "2023-09-22T12:57:45.739555438Z",
     "start_time": "2023-09-22T12:57:45.737395174Z"
    }
   },
   "id": "95e8c227c50877e1"
  },
  {
   "cell_type": "code",
   "execution_count": 17,
   "outputs": [],
   "source": [
    "#dropping room service etc\n",
    "train_data_1 = train_data.copy()\n",
    "#drop_col(train_data, ['RoomService','FoodCourt', 'ShoppingMall', 'Spa', 'VRDeck', 'Group_ID'])\n",
    "#drop_col(test_data, ['RoomService','FoodCourt', 'ShoppingMall', 'Spa', 'VRDeck', 'Group_ID'])\n",
    "#sum of sepndings\n"
   ],
   "metadata": {
    "collapsed": false,
    "ExecuteTime": {
     "end_time": "2023-09-22T12:57:45.740084195Z",
     "start_time": "2023-09-22T12:57:45.737758649Z"
    }
   },
   "id": "17ffce3d628bee64"
  },
  {
   "cell_type": "code",
   "execution_count": 18,
   "outputs": [],
   "source": [
    "def round_ages(dfs, base):\n",
    "    def rnd(x):\n",
    "        return base * round(x/base)\n",
    "    \n",
    "    for df in dfs:\n",
    "        df['Age'] = rnd(df['Age'])\n",
    "        df['CryoSleep'] = np.round(df['CryoSleep'])\n",
    "    \n",
    "#round_ages([train_data,test_data], 5)\n",
    "#train_data.to_csv('./splitted_df.csv')"
   ],
   "metadata": {
    "collapsed": false,
    "ExecuteTime": {
     "end_time": "2023-09-22T12:57:45.740398731Z",
     "start_time": "2023-09-22T12:57:45.738119229Z"
    }
   },
   "id": "b8ff05358fc18a33"
  },
  {
   "cell_type": "code",
   "execution_count": 19,
   "outputs": [],
   "source": [
    "from sklearn.experimental import enable_iterative_imputer\n",
    "from sklearn.impute import IterativeImputer\n",
    "from sklearn.model_selection import cross_val_score\n",
    "\n",
    "itm = IterativeImputer(random_state=0)"
   ],
   "metadata": {
    "collapsed": false,
    "ExecuteTime": {
     "end_time": "2023-09-22T12:57:45.740761464Z",
     "start_time": "2023-09-22T12:57:45.738500865Z"
    }
   },
   "id": "caa6500821d23b45"
  },
  {
   "cell_type": "code",
   "execution_count": 20,
   "outputs": [],
   "source": [
    "y = train_data['Transported']\n",
    "X = train_data.drop('Transported', axis=1)\n",
    "X = one_hot_tr = pd.get_dummies(X, drop_first=True)\n",
    "X = itm.fit_transform(X)"
   ],
   "metadata": {
    "collapsed": false,
    "ExecuteTime": {
     "end_time": "2023-09-22T12:57:48.670000137Z",
     "start_time": "2023-09-22T12:57:45.738843775Z"
    }
   },
   "id": "5dcb4d5f067594b"
  },
  {
   "cell_type": "code",
   "execution_count": 21,
   "outputs": [],
   "source": [
    "X_test = pd.get_dummies(test_data, drop_first=True)\n",
    "X_test = itm.fit_transform(X_test)"
   ],
   "metadata": {
    "collapsed": false,
    "ExecuteTime": {
     "end_time": "2023-09-22T12:57:49.257188428Z",
     "start_time": "2023-09-22T12:57:48.576674985Z"
    }
   },
   "id": "dcc2e3b24ceb1840"
  },
  {
   "cell_type": "code",
   "execution_count": 22,
   "outputs": [],
   "source": [
    "round_ages([train_data,test_data], 5)"
   ],
   "metadata": {
    "collapsed": false,
    "ExecuteTime": {
     "end_time": "2023-09-22T12:57:49.258089369Z",
     "start_time": "2023-09-22T12:57:49.154266253Z"
    }
   },
   "id": "f1d8362e90e94a40"
  },
  {
   "cell_type": "code",
   "execution_count": 23,
   "outputs": [],
   "source": [
    "# for name, model in models:\n",
    "#     scores = cross_val_score(model, X, train_data['Transported'], scoring='accuracy')\n",
    "#     print(f'{name}\\t:\\t{np.mean(scores).round(4)}')"
   ],
   "metadata": {
    "collapsed": false,
    "ExecuteTime": {
     "end_time": "2023-09-22T12:57:49.258357208Z",
     "start_time": "2023-09-22T12:57:49.164502217Z"
    }
   },
   "id": "d457bcb027c0eb03"
  },
  {
   "cell_type": "code",
   "execution_count": 24,
   "outputs": [],
   "source": [
    "cat.fit(X, y)\n",
    "pred = cat.predict(X_test)\n",
    "submission = pd.DataFrame({'PassengerId':test_id, 'Transported':pred.astype(bool)})\n",
    "\n",
    "submission.to_csv('./submission.csv', index=False)"
   ],
   "metadata": {
    "collapsed": false,
    "ExecuteTime": {
     "end_time": "2023-09-22T12:58:02.508212724Z",
     "start_time": "2023-09-22T12:57:49.172383208Z"
    }
   },
   "id": "64ad8d701877c9ab"
  },
  {
   "cell_type": "code",
   "execution_count": 25,
   "outputs": [],
   "source": [
    "imp_ft = pd.Series(cat.feature_importances_, index=one_hot_tr.columns)"
   ],
   "metadata": {
    "collapsed": false,
    "ExecuteTime": {
     "end_time": "2023-09-22T12:58:02.527156629Z",
     "start_time": "2023-09-22T12:58:02.510940881Z"
    }
   },
   "id": "87517dc9c886a55b"
  },
  {
   "cell_type": "code",
   "execution_count": 26,
   "outputs": [],
   "source": [
    "imp_ft.sort_values(ascending=False).to_csv('./imp_feature.csv')"
   ],
   "metadata": {
    "collapsed": false,
    "ExecuteTime": {
     "end_time": "2023-09-22T12:58:02.528269705Z",
     "start_time": "2023-09-22T12:58:02.518186984Z"
    }
   },
   "id": "a8d7052df807c07d"
  },
  {
   "cell_type": "code",
   "execution_count": 45,
   "outputs": [
    {
     "name": "stdout",
     "output_type": "stream",
     "text": [
      "[4.62572020e-04 1.88849098e-02 4.03543705e-02 4.06671642e-02\n",
      " 9.02154028e-02 1.69795148e-01 3.78479374e-01 3.81308972e-01\n",
      " 4.84239183e-01 5.76724465e-01]\n"
     ]
    }
   ],
   "source": [
    "last_10_ft = imp_ft.sort_values(ascending=True)[0:10]\n",
    "print(last_10_ft.values)"
   ],
   "metadata": {
    "collapsed": false,
    "ExecuteTime": {
     "end_time": "2023-09-22T13:08:59.277648124Z",
     "start_time": "2023-09-22T13:08:59.257896889Z"
    }
   },
   "id": "48fb2761259c1c0a"
  },
  {
   "cell_type": "code",
   "execution_count": 46,
   "outputs": [],
   "source": [
    "mod_one_hot = one_hot_tr.drop(last_10_ft.index, axis=1)\n",
    "\n",
    "cat.fit(mod_one_hot, y)\n",
    "pred = cat.predict(X_test)\n",
    "submission = pd.DataFrame({'PassengerId':test_id, 'Transported':pred.astype(bool)})\n",
    "\n",
    "submission.to_csv('./submission2.csv', index=False)\n"
   ],
   "metadata": {
    "collapsed": false,
    "ExecuteTime": {
     "end_time": "2023-09-22T13:09:41.580617564Z",
     "start_time": "2023-09-22T13:09:28.883591974Z"
    }
   },
   "id": "20802d9a9bbbad4"
  }
 ],
 "metadata": {
  "kernelspec": {
   "display_name": "Python 3",
   "language": "python",
   "name": "python3"
  },
  "language_info": {
   "codemirror_mode": {
    "name": "ipython",
    "version": 2
   },
   "file_extension": ".py",
   "mimetype": "text/x-python",
   "name": "python",
   "nbconvert_exporter": "python",
   "pygments_lexer": "ipython2",
   "version": "2.7.6"
  }
 },
 "nbformat": 4,
 "nbformat_minor": 5
}
