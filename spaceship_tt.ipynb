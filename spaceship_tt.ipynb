{
 "cells": [
  {
   "cell_type": "code",
   "execution_count": 200,
   "outputs": [],
   "source": [
    "import pandas as pd\n",
    "import numpy as np\n",
    "import seaborn as sns\n",
    "import matplotlib.pyplot as plt\n",
    "\n",
    "import math\n",
    "\n",
    "from sklearn.discriminant_analysis import QuadraticDiscriminantAnalysis\n",
    "from sklearn.gaussian_process.kernels import RBF\n",
    "from sklearn.inspection import DecisionBoundaryDisplay\n",
    "from sklearn.model_selection import train_test_split\n",
    "from sklearn.naive_bayes import GaussianNB\n",
    "from sklearn.pipeline import make_pipeline\n",
    "from sklearn.preprocessing import StandardScaler\n",
    "from sklearn.svm import SVC\n",
    "\n",
    "random_state = 0"
   ],
   "metadata": {
    "collapsed": false,
    "ExecuteTime": {
     "end_time": "2023-09-22T05:49:00.880515589Z",
     "start_time": "2023-09-22T05:49:00.660760023Z"
    }
   },
   "id": "b8d9ea5b593c2892"
  },
  {
   "cell_type": "code",
   "execution_count": 201,
   "outputs": [],
   "source": [
    "from xgboost import XGBClassifier, XGBRFClassifier\n",
    "from lightgbm import LGBMClassifier\n",
    "from catboost import CatBoostClassifier\n",
    "\n",
    "\n",
    "from sklearn.ensemble import AdaBoostClassifier, RandomForestClassifier\n",
    "from sklearn.neighbors import KNeighborsClassifier\n",
    "from sklearn.neural_network import MLPClassifier\n",
    "from sklearn.tree import DecisionTreeClassifier\n",
    "from sklearn.gaussian_process import GaussianProcessClassifier\n",
    "from sklearn.datasets import make_circles, make_classification, make_moons\n",
    "\n",
    "cat = CatBoostClassifier(verbose=False, random_state=random_state)\n",
    "lgbm = LGBMClassifier(random_state=random_state)\n",
    "xgb = XGBClassifier(random_state=random_state)\n",
    "xgbrf = XGBRFClassifier(random_state=random_state)\n",
    "\n",
    "models = []\n",
    "\n",
    "models.append(('CAT', cat))\n",
    "models.append(('LGBM', lgbm))\n",
    "models.append(('XGB', xgb))\n",
    "models.append(('XGBRF', xgbrf))\n"
   ],
   "metadata": {
    "collapsed": false,
    "ExecuteTime": {
     "end_time": "2023-09-22T05:49:00.892187718Z",
     "start_time": "2023-09-22T05:49:00.702065773Z"
    }
   },
   "id": "525c7bb6c940b547"
  },
  {
   "cell_type": "code",
   "execution_count": 202,
   "outputs": [],
   "source": [
    "og_data = train_data = pd.read_csv('../dset/spaceship-titanic/train.csv')\n",
    "test_data = pd.read_csv('../dset/spaceship-titanic/test.csv')\n",
    "test_id = test_data['PassengerId']\n",
    "# train_data = og_data.sample(frac=0.75)\n",
    "# eval_data = og_data.drop(train_data.index, axis=0)\n",
    "# print(train_data.shape)\n",
    "# print(eval_data.shape)\n",
    "# print(test_data.shape)"
   ],
   "metadata": {
    "collapsed": false,
    "ExecuteTime": {
     "end_time": "2023-09-22T05:49:00.892607325Z",
     "start_time": "2023-09-22T05:49:00.702362297Z"
    }
   },
   "id": "b3d994f9dd520a3a"
  },
  {
   "cell_type": "code",
   "execution_count": 203,
   "outputs": [
    {
     "name": "stdout",
     "output_type": "stream",
     "text": [
      "<class 'pandas.core.frame.DataFrame'>\n",
      "RangeIndex: 8693 entries, 0 to 8692\n",
      "Data columns (total 14 columns):\n",
      " #   Column        Non-Null Count  Dtype  \n",
      "---  ------        --------------  -----  \n",
      " 0   PassengerId   8693 non-null   object \n",
      " 1   HomePlanet    8492 non-null   object \n",
      " 2   CryoSleep     8476 non-null   object \n",
      " 3   Cabin         8494 non-null   object \n",
      " 4   Destination   8511 non-null   object \n",
      " 5   Age           8514 non-null   float64\n",
      " 6   VIP           8490 non-null   object \n",
      " 7   RoomService   8512 non-null   float64\n",
      " 8   FoodCourt     8510 non-null   float64\n",
      " 9   ShoppingMall  8485 non-null   float64\n",
      " 10  Spa           8510 non-null   float64\n",
      " 11  VRDeck        8505 non-null   float64\n",
      " 12  Name          8493 non-null   object \n",
      " 13  Transported   8693 non-null   bool   \n",
      "dtypes: bool(1), float64(6), object(7)\n",
      "memory usage: 891.5+ KB\n"
     ]
    }
   ],
   "source": [
    "#train_data.info()\n",
    "unique_values_csv = pd.Series(train_data['Transported'].unique())\n",
    "#unique_values_csv.to_csv('./passenger_Id.csv')\n",
    "train_data.info()"
   ],
   "metadata": {
    "collapsed": false,
    "ExecuteTime": {
     "end_time": "2023-09-22T05:49:00.895680340Z",
     "start_time": "2023-09-22T05:49:00.753794178Z"
    }
   },
   "id": "9bd4d321d73772d0"
  },
  {
   "cell_type": "code",
   "execution_count": 204,
   "outputs": [],
   "source": [
    "def transform_bools(dfs, tr_arr, tst_arr):\n",
    "    for i in tr_arr:\n",
    "        dfs[0][i] = dfs[0][i].replace({False: 0, True: 1})\n",
    "        \n",
    "    for i in tst_arr:\n",
    "        dfs[1][i] = dfs[1][i].replace({False: 0, True: 1})\n",
    "\n",
    "def get_num_cols(df):\n",
    "    num_col = [col for col in train_data if train_data[col].dtype in ['int64', 'float64']]\n",
    "    return num_col;\n",
    "\n",
    "def split_df(dfs, to_split, from_split, split_factor, to_drop):\n",
    "    for df in dfs:\n",
    "        df[to_split] = df[from_split].str.split(split_factor, expand=True)\n",
    "        df.drop([from_split, to_drop], inplace=True, axis=1)\n"
   ],
   "metadata": {
    "collapsed": false,
    "ExecuteTime": {
     "end_time": "2023-09-22T05:49:00.896023489Z",
     "start_time": "2023-09-22T05:49:00.794941866Z"
    }
   },
   "id": "66c0c576fbc54de9"
  },
  {
   "cell_type": "code",
   "execution_count": 205,
   "outputs": [],
   "source": [
    "transform_bools([train_data,test_data], ['Transported', 'VIP', 'CryoSleep'], ['VIP', 'CryoSleep'])"
   ],
   "metadata": {
    "collapsed": false,
    "ExecuteTime": {
     "end_time": "2023-09-22T05:49:00.896564425Z",
     "start_time": "2023-09-22T05:49:00.795112010Z"
    }
   },
   "id": "677db7b332930c9c"
  },
  {
   "cell_type": "code",
   "execution_count": 206,
   "outputs": [],
   "source": [
    "num_col = get_num_cols(train_data) \n",
    "obj_col = [col for col in train_data if col not in num_col]"
   ],
   "metadata": {
    "collapsed": false,
    "ExecuteTime": {
     "end_time": "2023-09-22T05:49:00.896890745Z",
     "start_time": "2023-09-22T05:49:00.835843482Z"
    }
   },
   "id": "bf5da1a8c8290524"
  },
  {
   "cell_type": "code",
   "execution_count": 207,
   "outputs": [],
   "source": [
    "def corr_mat(data, target):\n",
    "    corrmat_def = data.corr()\n",
    "    top_corr = corrmat_def.nlargest(15, target)[target]\n",
    "    return top_corr.sort_values(ascending=False)"
   ],
   "metadata": {
    "collapsed": false,
    "ExecuteTime": {
     "end_time": "2023-09-22T05:49:00.897285647Z",
     "start_time": "2023-09-22T05:49:00.839257912Z"
    }
   },
   "id": "4c5fbb0b8d34d65e"
  },
  {
   "cell_type": "code",
   "execution_count": 208,
   "outputs": [
    {
     "name": "stdout",
     "output_type": "stream",
     "text": [
      "Transported     1.000000\n",
      "CryoSleep       0.468645\n",
      "FoodCourt       0.046566\n",
      "ShoppingMall    0.010141\n",
      "VIP            -0.037650\n",
      "Age            -0.075026\n",
      "VRDeck         -0.207075\n",
      "Spa            -0.221131\n",
      "RoomService    -0.244611\n",
      "Name: Transported, dtype: float64\n"
     ]
    }
   ],
   "source": [
    "corrmat = corr_mat(train_data[num_col], 'Transported')\n",
    "print(corrmat)"
   ],
   "metadata": {
    "collapsed": false,
    "ExecuteTime": {
     "end_time": "2023-09-22T05:49:00.897830626Z",
     "start_time": "2023-09-22T05:49:00.879899087Z"
    }
   },
   "id": "dd7b02710070b382"
  },
  {
   "cell_type": "code",
   "execution_count": 209,
   "outputs": [
    {
     "name": "stdout",
     "output_type": "stream",
     "text": [
      "Index(['HomePlanet', 'CryoSleep', 'Destination', 'Age', 'VIP', 'RoomService',\n",
      "       'FoodCourt', 'ShoppingMall', 'Spa', 'VRDeck', 'Name', 'Transported',\n",
      "       'Deck', 'Side', 'Group_ID'],\n",
      "      dtype='object') Index(['HomePlanet', 'CryoSleep', 'Destination', 'Age', 'VIP', 'RoomService',\n",
      "       'FoodCourt', 'ShoppingMall', 'Spa', 'VRDeck', 'Name', 'Deck', 'Side',\n",
      "       'Group_ID'],\n",
      "      dtype='object')\n"
     ]
    }
   ],
   "source": [
    "split_df([train_data, test_data], ['Deck', 'Cabin_No', 'Side'], 'Cabin', '/', 'Cabin_No')\n",
    "split_df([train_data, test_data], ['P_ID', 'Group_ID'], 'PassengerId', '_', 'P_ID')\n",
    "\n",
    "print(train_data.columns, test_data.columns)"
   ],
   "metadata": {
    "collapsed": false,
    "ExecuteTime": {
     "end_time": "2023-09-22T05:49:01.007289323Z",
     "start_time": "2023-09-22T05:49:00.920774907Z"
    }
   },
   "id": "78601c1ea256576c"
  },
  {
   "cell_type": "code",
   "execution_count": 210,
   "outputs": [],
   "source": [
    "from sklearn.impute import SimpleImputer\n",
    "from sklearn.impute import KNNImputer\n",
    "\n",
    "# y = train_data['Transported']\n",
    "# train_data.drop('Transported', axis=1, inplace=True)\n",
    "# train_data_0 = train_data\n",
    "# train_data['Cabin_No'] = train_data['Cabin_No'].astype(float)\n",
    "# num_col = get_num_cols(train_data)\n",
    "# \n",
    "# knn = KNNImputer(n_neighbors=3)\n",
    "# imputed_train = train_data[num_col]\n",
    "# imputed_train = knn.fit_transform(imputed_train)\n",
    "# imputed_train = pd.DataFrame(imputed_train)\n",
    "# imputed_train.columns = train_data[num_col].columns\n",
    "# train_data[num_col] = imputed_train[num_col]\n",
    "\n",
    "train_data.to_csv('./splitted_df.csv')"
   ],
   "metadata": {
    "collapsed": false,
    "ExecuteTime": {
     "end_time": "2023-09-22T05:49:01.083090535Z",
     "start_time": "2023-09-22T05:49:00.943082174Z"
    }
   },
   "id": "623c800ff529b5e4"
  },
  {
   "cell_type": "code",
   "execution_count": 211,
   "outputs": [],
   "source": [
    "def drop_col(df, to_drop, axis = 1, inplace = True):\n",
    "    df.drop(to_drop, axis=axis, inplace=inplace)\n",
    "\n",
    "drop_col(train_data, 'Name')\n",
    "drop_col(test_data, 'Name')"
   ],
   "metadata": {
    "collapsed": false,
    "ExecuteTime": {
     "end_time": "2023-09-22T05:49:01.128882799Z",
     "start_time": "2023-09-22T05:49:01.077452456Z"
    }
   },
   "id": "b000aa93d38e01bd"
  },
  {
   "cell_type": "code",
   "execution_count": 212,
   "outputs": [
    {
     "name": "stdout",
     "output_type": "stream",
     "text": [
      "['HomePlanet', 'Destination', 'Deck', 'Side', 'Group_ID']\n"
     ]
    }
   ],
   "source": [
    "train_data['Group_ID'].astype(int)\n",
    "test_data['Group_ID'].astype(int)\n",
    "\n",
    "obj_col = [col for col in train_data.columns if train_data[col].dtype in ['object']]\n",
    "print(obj_col)"
   ],
   "metadata": {
    "collapsed": false,
    "ExecuteTime": {
     "end_time": "2023-09-22T05:49:01.129724008Z",
     "start_time": "2023-09-22T05:49:01.117988276Z"
    }
   },
   "id": "95e8c227c50877e1"
  },
  {
   "cell_type": "code",
   "execution_count": 213,
   "outputs": [],
   "source": [
    "#dropping room service etc\n",
    "train_data_1 = train_data.copy()\n",
    "#drop_col(train_data, ['RoomService','FoodCourt', 'ShoppingMall', 'Spa', 'VRDeck', 'Group_ID'])\n",
    "#drop_col(test_data, ['RoomService','FoodCourt', 'ShoppingMall', 'Spa', 'VRDeck', 'Group_ID'])\n",
    "#sum of sepndings\n"
   ],
   "metadata": {
    "collapsed": false,
    "ExecuteTime": {
     "end_time": "2023-09-22T05:49:01.130182437Z",
     "start_time": "2023-09-22T05:49:01.118364524Z"
    }
   },
   "id": "17ffce3d628bee64"
  },
  {
   "cell_type": "code",
   "execution_count": 214,
   "outputs": [],
   "source": [
    "def round_ages(dfs, base):\n",
    "    def rnd(x):\n",
    "        return base * round(x/base)\n",
    "    \n",
    "    for df in dfs:\n",
    "        df['Age'] = rnd(df['Age'])\n",
    "        df['CryoSleep'] = np.round(df['CryoSleep'])\n",
    "    \n",
    "#round_ages([train_data,test_data], 5)\n",
    "#train_data.to_csv('./splitted_df.csv')"
   ],
   "metadata": {
    "collapsed": false,
    "ExecuteTime": {
     "end_time": "2023-09-22T05:49:01.201758189Z",
     "start_time": "2023-09-22T05:49:01.118634432Z"
    }
   },
   "id": "b8ff05358fc18a33"
  },
  {
   "cell_type": "code",
   "execution_count": 215,
   "outputs": [],
   "source": [
    "from sklearn.experimental import enable_iterative_imputer\n",
    "from sklearn.impute import IterativeImputer\n",
    "from sklearn.model_selection import cross_val_score\n",
    "\n",
    "itm = IterativeImputer(random_state=0)"
   ],
   "metadata": {
    "collapsed": false,
    "ExecuteTime": {
     "end_time": "2023-09-22T05:49:01.223683547Z",
     "start_time": "2023-09-22T05:49:01.158971475Z"
    }
   },
   "id": "caa6500821d23b45"
  },
  {
   "cell_type": "code",
   "execution_count": 216,
   "outputs": [],
   "source": [
    "y = train_data['Transported']\n",
    "X = train_data.drop('Transported', axis=1)\n",
    "X = one_hot_tr = pd.get_dummies(X, drop_first=True)\n",
    "X = itm.fit_transform(X)"
   ],
   "metadata": {
    "collapsed": false,
    "ExecuteTime": {
     "end_time": "2023-09-22T05:49:05.240129601Z",
     "start_time": "2023-09-22T05:49:01.159155550Z"
    }
   },
   "id": "5dcb4d5f067594b"
  },
  {
   "cell_type": "code",
   "execution_count": 217,
   "outputs": [],
   "source": [
    "X_test = pd.get_dummies(test_data, drop_first=True)\n",
    "X_test = itm.fit_transform(X_test)"
   ],
   "metadata": {
    "collapsed": false,
    "ExecuteTime": {
     "end_time": "2023-09-22T05:49:06.318307656Z",
     "start_time": "2023-09-22T05:49:05.100932604Z"
    }
   },
   "id": "dcc2e3b24ceb1840"
  },
  {
   "cell_type": "code",
   "execution_count": 218,
   "outputs": [],
   "source": [
    "round_ages([train_data,test_data], 5)"
   ],
   "metadata": {
    "collapsed": false,
    "ExecuteTime": {
     "end_time": "2023-09-22T05:49:06.318859466Z",
     "start_time": "2023-09-22T05:49:06.195009066Z"
    }
   },
   "id": "f1d8362e90e94a40"
  },
  {
   "cell_type": "code",
   "execution_count": 219,
   "outputs": [],
   "source": [
    "# for name, model in models:\n",
    "#     scores = cross_val_score(model, X, train_data['Transported'], scoring='accuracy')\n",
    "#     print(f'{name}\\t:\\t{np.mean(scores).round(4)}')"
   ],
   "metadata": {
    "collapsed": false,
    "ExecuteTime": {
     "end_time": "2023-09-22T05:49:06.319100061Z",
     "start_time": "2023-09-22T05:49:06.209707762Z"
    }
   },
   "id": "d457bcb027c0eb03"
  },
  {
   "cell_type": "code",
   "execution_count": 220,
   "outputs": [],
   "source": [
    "cat.fit(X, y)\n",
    "pred = cat.predict(X_test)\n",
    "submission = pd.DataFrame({'PassengerId':test_id, 'Transported':pred.astype(bool)})\n",
    "\n",
    "submission.to_csv('./submission.csv', index=False)"
   ],
   "metadata": {
    "collapsed": false,
    "ExecuteTime": {
     "end_time": "2023-09-22T05:49:20.907732512Z",
     "start_time": "2023-09-22T05:49:06.240895759Z"
    }
   },
   "id": "64ad8d701877c9ab"
  },
  {
   "cell_type": "code",
   "execution_count": 221,
   "outputs": [],
   "source": [
    "imp_ft = pd.Series(cat.feature_importances_, index=one_hot_tr.columns)"
   ],
   "metadata": {
    "collapsed": false,
    "ExecuteTime": {
     "end_time": "2023-09-22T05:49:20.928783772Z",
     "start_time": "2023-09-22T05:49:20.913481310Z"
    }
   },
   "id": "87517dc9c886a55b"
  },
  {
   "cell_type": "code",
   "execution_count": 222,
   "outputs": [],
   "source": [
    "imp_ft.sort_values(ascending=False).to_csv('./imp_feature.csv')"
   ],
   "metadata": {
    "collapsed": false,
    "ExecuteTime": {
     "end_time": "2023-09-22T05:49:20.929200014Z",
     "start_time": "2023-09-22T05:49:20.922420289Z"
    }
   },
   "id": "f0d339063101f70d"
  }
 ],
 "metadata": {
  "kernelspec": {
   "display_name": "Python 3",
   "language": "python",
   "name": "python3"
  },
  "language_info": {
   "codemirror_mode": {
    "name": "ipython",
    "version": 2
   },
   "file_extension": ".py",
   "mimetype": "text/x-python",
   "name": "python",
   "nbconvert_exporter": "python",
   "pygments_lexer": "ipython2",
   "version": "2.7.6"
  }
 },
 "nbformat": 4,
 "nbformat_minor": 5
}
